{
 "cells": [
  {
   "cell_type": "markdown",
   "id": "0c80d4bf",
   "metadata": {},
   "source": [
    "<img src=\"https://heig-vd.ch/docs/default-source/doc-global-newsletter/2020-slim.svg\" alt=\"Logo HEIG-VD\" style=\"width: 80px;\" align=\"right\"/>\n",
    "\n",
    "# Course GML - CRAPAUDUC Project"
   ]
  },
  {
   "cell_type": "code",
   "execution_count": 2,
   "id": "a6dd5fc0",
   "metadata": {},
   "outputs": [],
   "source": [
    "from datetime import datetime as dt\n",
    "\n",
    "import matplotlib.pyplot as plt\n",
    "import pandas            as pd\n",
    "import seaborn           as sns"
   ]
  },
  {
   "cell_type": "markdown",
   "id": "b51610f4",
   "metadata": {},
   "source": [
    "## Data importation"
   ]
  },
  {
   "cell_type": "code",
   "execution_count": 3,
   "id": "b880f50c",
   "metadata": {},
   "outputs": [
    {
     "data": {
      "text/html": [
       "<div>\n",
       "<style scoped>\n",
       "    .dataframe tbody tr th:only-of-type {\n",
       "        vertical-align: middle;\n",
       "    }\n",
       "\n",
       "    .dataframe tbody tr th {\n",
       "        vertical-align: top;\n",
       "    }\n",
       "\n",
       "    .dataframe thead th {\n",
       "        text-align: right;\n",
       "    }\n",
       "</style>\n",
       "<table border=\"1\" class=\"dataframe\">\n",
       "  <thead>\n",
       "    <tr style=\"text-align: right;\">\n",
       "      <th></th>\n",
       "      <th>timestamp</th>\n",
       "      <th>crapaud</th>\n",
       "      <th>grenouille</th>\n",
       "      <th>triton</th>\n",
       "    </tr>\n",
       "  </thead>\n",
       "  <tbody>\n",
       "    <tr>\n",
       "      <th>0</th>\n",
       "      <td>1.489003e+09</td>\n",
       "      <td>0.0</td>\n",
       "      <td>0.0</td>\n",
       "      <td>0.0</td>\n",
       "    </tr>\n",
       "    <tr>\n",
       "      <th>1</th>\n",
       "      <td>1.489003e+09</td>\n",
       "      <td>0.0</td>\n",
       "      <td>0.0</td>\n",
       "      <td>0.0</td>\n",
       "    </tr>\n",
       "    <tr>\n",
       "      <th>2</th>\n",
       "      <td>1.489003e+09</td>\n",
       "      <td>0.0</td>\n",
       "      <td>0.0</td>\n",
       "      <td>0.0</td>\n",
       "    </tr>\n",
       "    <tr>\n",
       "      <th>3</th>\n",
       "      <td>1.489003e+09</td>\n",
       "      <td>0.0</td>\n",
       "      <td>0.0</td>\n",
       "      <td>0.0</td>\n",
       "    </tr>\n",
       "    <tr>\n",
       "      <th>4</th>\n",
       "      <td>1.489003e+09</td>\n",
       "      <td>0.0</td>\n",
       "      <td>0.0</td>\n",
       "      <td>0.0</td>\n",
       "    </tr>\n",
       "  </tbody>\n",
       "</table>\n",
       "</div>"
      ],
      "text/plain": [
       "      timestamp  crapaud  grenouille  triton\n",
       "0  1.489003e+09      0.0         0.0     0.0\n",
       "1  1.489003e+09      0.0         0.0     0.0\n",
       "2  1.489003e+09      0.0         0.0     0.0\n",
       "3  1.489003e+09      0.0         0.0     0.0\n",
       "4  1.489003e+09      0.0         0.0     0.0"
      ]
     },
     "execution_count": 3,
     "metadata": {},
     "output_type": "execute_result"
    }
   ],
   "source": [
    "# Import labels file of a chosen camera\n",
    "df_labels = pd.read_csv('data/labels_count/labels_Caméra01.csv')\n",
    "df_labels.head()"
   ]
  },
  {
   "cell_type": "markdown",
   "id": "c88b3002",
   "metadata": {},
   "source": [
    "## Data preparation"
   ]
  },
  {
   "cell_type": "code",
   "execution_count": 4,
   "id": "6dcb35b5",
   "metadata": {},
   "outputs": [],
   "source": [
    "# Transform timestamp (1489002529) in datetime (2017-03-08 20:48:49) \n",
    "df_labels['dateheure'] = [dt.fromtimestamp(x) for x in df_labels['timestamp']]\n",
    "\n",
    "# Drop the timestamp column as we won't need it anymore\n",
    "df_labels = df_labels.drop(columns=['timestamp'])"
   ]
  },
  {
   "cell_type": "code",
   "execution_count": 5,
   "id": "09ca97df",
   "metadata": {},
   "outputs": [],
   "source": [
    "# Split datetime into date and time\n",
    "df_labels['date']   = [d.date() for d in df_labels['dateheure']]\n",
    "df_labels['h_m_s']  = [d.time() for d in df_labels['dateheure']]\n",
    "df_labels['h']      = [d.hour for d in df_labels['dateheure']]\n",
    "\n",
    "df_labels['annee']  = [d.year for d in df_labels['dateheure']]\n",
    "df_labels['mois']   = [d.strftime(\"%B\") for d in df_labels['dateheure']]\n",
    "df_labels['jour']   = [d.day for d in df_labels['dateheure']]"
   ]
  },
  {
   "cell_type": "code",
   "execution_count": 6,
   "id": "4e54b838",
   "metadata": {},
   "outputs": [
    {
     "data": {
      "text/html": [
       "<div>\n",
       "<style scoped>\n",
       "    .dataframe tbody tr th:only-of-type {\n",
       "        vertical-align: middle;\n",
       "    }\n",
       "\n",
       "    .dataframe tbody tr th {\n",
       "        vertical-align: top;\n",
       "    }\n",
       "\n",
       "    .dataframe thead th {\n",
       "        text-align: right;\n",
       "    }\n",
       "</style>\n",
       "<table border=\"1\" class=\"dataframe\">\n",
       "  <thead>\n",
       "    <tr style=\"text-align: right;\">\n",
       "      <th></th>\n",
       "      <th>crapaud</th>\n",
       "      <th>grenouille</th>\n",
       "      <th>triton</th>\n",
       "      <th>dateheure</th>\n",
       "      <th>date</th>\n",
       "      <th>h_m_s</th>\n",
       "      <th>h</th>\n",
       "      <th>annee</th>\n",
       "      <th>mois</th>\n",
       "      <th>jour</th>\n",
       "    </tr>\n",
       "  </thead>\n",
       "  <tbody>\n",
       "    <tr>\n",
       "      <th>0</th>\n",
       "      <td>0.0</td>\n",
       "      <td>0.0</td>\n",
       "      <td>0.0</td>\n",
       "      <td>2017-03-08 20:48:49</td>\n",
       "      <td>2017-03-08</td>\n",
       "      <td>20:48:49</td>\n",
       "      <td>20</td>\n",
       "      <td>2017</td>\n",
       "      <td>March</td>\n",
       "      <td>8</td>\n",
       "    </tr>\n",
       "    <tr>\n",
       "      <th>1</th>\n",
       "      <td>0.0</td>\n",
       "      <td>0.0</td>\n",
       "      <td>0.0</td>\n",
       "      <td>2017-03-08 20:48:50</td>\n",
       "      <td>2017-03-08</td>\n",
       "      <td>20:48:50</td>\n",
       "      <td>20</td>\n",
       "      <td>2017</td>\n",
       "      <td>March</td>\n",
       "      <td>8</td>\n",
       "    </tr>\n",
       "    <tr>\n",
       "      <th>2</th>\n",
       "      <td>0.0</td>\n",
       "      <td>0.0</td>\n",
       "      <td>0.0</td>\n",
       "      <td>2017-03-08 20:48:51</td>\n",
       "      <td>2017-03-08</td>\n",
       "      <td>20:48:51</td>\n",
       "      <td>20</td>\n",
       "      <td>2017</td>\n",
       "      <td>March</td>\n",
       "      <td>8</td>\n",
       "    </tr>\n",
       "    <tr>\n",
       "      <th>3</th>\n",
       "      <td>0.0</td>\n",
       "      <td>0.0</td>\n",
       "      <td>0.0</td>\n",
       "      <td>2017-03-08 20:48:52</td>\n",
       "      <td>2017-03-08</td>\n",
       "      <td>20:48:52</td>\n",
       "      <td>20</td>\n",
       "      <td>2017</td>\n",
       "      <td>March</td>\n",
       "      <td>8</td>\n",
       "    </tr>\n",
       "    <tr>\n",
       "      <th>4</th>\n",
       "      <td>0.0</td>\n",
       "      <td>0.0</td>\n",
       "      <td>0.0</td>\n",
       "      <td>2017-03-08 20:48:53</td>\n",
       "      <td>2017-03-08</td>\n",
       "      <td>20:48:53</td>\n",
       "      <td>20</td>\n",
       "      <td>2017</td>\n",
       "      <td>March</td>\n",
       "      <td>8</td>\n",
       "    </tr>\n",
       "  </tbody>\n",
       "</table>\n",
       "</div>"
      ],
      "text/plain": [
       "   crapaud  grenouille  triton           dateheure        date     h_m_s   h  \\\n",
       "0      0.0         0.0     0.0 2017-03-08 20:48:49  2017-03-08  20:48:49  20   \n",
       "1      0.0         0.0     0.0 2017-03-08 20:48:50  2017-03-08  20:48:50  20   \n",
       "2      0.0         0.0     0.0 2017-03-08 20:48:51  2017-03-08  20:48:51  20   \n",
       "3      0.0         0.0     0.0 2017-03-08 20:48:52  2017-03-08  20:48:52  20   \n",
       "4      0.0         0.0     0.0 2017-03-08 20:48:53  2017-03-08  20:48:53  20   \n",
       "\n",
       "   annee   mois  jour  \n",
       "0   2017  March     8  \n",
       "1   2017  March     8  \n",
       "2   2017  March     8  \n",
       "3   2017  March     8  \n",
       "4   2017  March     8  "
      ]
     },
     "execution_count": 6,
     "metadata": {},
     "output_type": "execute_result"
    }
   ],
   "source": [
    "df_labels.head()"
   ]
  },
  {
   "cell_type": "markdown",
   "id": "0a5050fd",
   "metadata": {},
   "source": [
    "## Exploratory analysis"
   ]
  },
  {
   "cell_type": "markdown",
   "id": "089d5ea6",
   "metadata": {},
   "source": [
    "### Counts and relative percentage of quantity observed, for each label"
   ]
  },
  {
   "cell_type": "code",
   "execution_count": 7,
   "id": "025fa704",
   "metadata": {},
   "outputs": [],
   "source": [
    "def counts_and_percentage_in_df(df, feature):\n",
    "    print('Count :\\n', df[feature].value_counts(), '\\n')\n",
    "    print('Percentage :\\n', round(df[feature].value_counts(normalize=True)*100,2), '\\n')\n",
    "    \n",
    "    print('Relative frequency (y-axis) of number of `' + feature + '` (x-axis) observed in data set')\n",
    "    df[feature].value_counts(normalize=True).plot(kind='bar')"
   ]
  },
  {
   "cell_type": "code",
   "execution_count": 8,
   "id": "cb491342",
   "metadata": {},
   "outputs": [
    {
     "name": "stdout",
     "output_type": "stream",
     "text": [
      "Count :\n",
      " 0.0    14337\n",
      "Name: crapaud, dtype: int64 \n",
      "\n",
      "Percentage :\n",
      " 0.0    100.0\n",
      "Name: crapaud, dtype: float64 \n",
      "\n",
      "Relative frequency (y-axis) of number of `crapaud` (x-axis) observed in data set\n"
     ]
    },
    {
     "data": {
      "image/png": "[encoded data removed]",
      "text/plain": [
       "<Figure size 432x288 with 1 Axes>"
      ]
     },
     "metadata": {
      "needs_background": "light"
     },
     "output_type": "display_data"
    }
   ],
   "source": [
    "counts_and_percentage_in_df(df_labels, 'crapaud')"
   ]
  },
  {
   "cell_type": "code",
   "execution_count": 9,
   "id": "0c552350",
   "metadata": {},
   "outputs": [
    {
     "name": "stdout",
     "output_type": "stream",
     "text": [
      "Count :\n",
      " 0.0    14124\n",
      "1.0      167\n",
      "2.0       40\n",
      "3.0        6\n",
      "Name: grenouille, dtype: int64 \n",
      "\n",
      "Percentage :\n",
      " 0.0    98.51\n",
      "1.0     1.16\n",
      "2.0     0.28\n",
      "3.0     0.04\n",
      "Name: grenouille, dtype: float64 \n",
      "\n",
      "Relative frequency (y-axis) of number of `grenouille` (x-axis) observed in data set\n"
     ]
    },
    {
     "data": {
      "image/png": "[encoded data removed]",
      "text/plain": [
       "<Figure size 432x288 with 1 Axes>"
      ]
     },
     "metadata": {
      "needs_background": "light"
     },
     "output_type": "display_data"
    }
   ],
   "source": [
    "counts_and_percentage_in_df(df_labels, 'grenouille')"
   ]
  },
  {
   "cell_type": "code",
   "execution_count": 10,
   "id": "60c17563",
   "metadata": {},
   "outputs": [
    {
     "name": "stdout",
     "output_type": "stream",
     "text": [
      "Count :\n",
      " 0.0    14237\n",
      "1.0      100\n",
      "Name: triton, dtype: int64 \n",
      "\n",
      "Percentage :\n",
      " 0.0    99.3\n",
      "1.0     0.7\n",
      "Name: triton, dtype: float64 \n",
      "\n",
      "Relative frequency (y-axis) of number of `triton` (x-axis) observed in data set\n"
     ]
    },
    {
     "data": {
      "image/png": "[encoded data removed]",
      "text/plain": [
       "<Figure size 432x288 with 1 Axes>"
      ]
     },
     "metadata": {
      "needs_background": "light"
     },
     "output_type": "display_data"
    }
   ],
   "source": [
    "counts_and_percentage_in_df(df_labels, 'triton')"
   ]
  },
  {
   "cell_type": "markdown",
   "id": "8a7cd68a",
   "metadata": {},
   "source": [
    "### Number of observation per date, for each label"
   ]
  },
  {
   "cell_type": "code",
   "execution_count": 11,
   "id": "ba6bb9a5",
   "metadata": {},
   "outputs": [],
   "source": [
    "def scatter_date_per_feature(df, feature):\n",
    "    plt.figure(figsize=(15,3))\n",
    "    plt.ylim([-0.5,5])\n",
    "    plt.scatter(df['date'], df[feature])\n",
    "    plt.xlabel('date')\n",
    "    plt.ylabel('nombre de ' + feature)\n",
    "    plt.grid()"
   ]
  },
  {
   "cell_type": "code",
   "execution_count": 12,
   "id": "cc7763d0",
   "metadata": {},
   "outputs": [
    {
     "data": {
      "image/png": "[encoded data removed]",
      "text/plain": [
       "<Figure size 1080x216 with 1 Axes>"
      ]
     },
     "metadata": {
      "needs_background": "light"
     },
     "output_type": "display_data"
    }
   ],
   "source": [
    "scatter_date_per_feature(df_labels, 'crapaud')"
   ]
  },
  {
   "cell_type": "code",
   "execution_count": 13,
   "id": "5ca203c6",
   "metadata": {},
   "outputs": [
    {
     "data": {
      "image/png": "[encoded data removed]",
      "text/plain": [
       "<Figure size 1080x216 with 1 Axes>"
      ]
     },
     "metadata": {
      "needs_background": "light"
     },
     "output_type": "display_data"
    }
   ],
   "source": [
    "scatter_date_per_feature(df_labels, 'grenouille')"
   ]
  },
  {
   "cell_type": "code",
   "execution_count": 14,
   "id": "963baea8",
   "metadata": {},
   "outputs": [
    {
     "data": {
      "image/png": "[encoded data removed]",
      "text/plain": [
       "<Figure size 1080x216 with 1 Axes>"
      ]
     },
     "metadata": {
      "needs_background": "light"
     },
     "output_type": "display_data"
    }
   ],
   "source": [
    "scatter_date_per_feature(df_labels, 'triton')"
   ]
  },
  {
   "cell_type": "markdown",
   "id": "e036b363",
   "metadata": {},
   "source": [
    "### Labels observed (date - time - number of observation)"
   ]
  },
  {
   "cell_type": "code",
   "execution_count": 15,
   "id": "2231019e",
   "metadata": {},
   "outputs": [],
   "source": [
    "# Creation of a dataframe containing only the samples where one of the labels' value is not zero\n",
    "df_activated_label = df_labels.loc[(df_labels['crapaud'] != 0)    |\n",
    "                                   (df_labels['grenouille'] != 0) |\n",
    "                                   (df_labels['triton'] != 0)]"
   ]
  },
  {
   "cell_type": "code",
   "execution_count": 16,
   "id": "9febf763",
   "metadata": {},
   "outputs": [
    {
     "data": {
      "text/plain": [
       "(313, 10)"
      ]
     },
     "execution_count": 16,
     "metadata": {},
     "output_type": "execute_result"
    }
   ],
   "source": [
    "# Size of new dataframe \n",
    "# = number of samples in given dataset where we observed at least one of the labels\n",
    "df_activated_label.shape"
   ]
  },
  {
   "cell_type": "code",
   "execution_count": 17,
   "id": "551fb9ae",
   "metadata": {},
   "outputs": [],
   "source": [
    "# in progress ...\n",
    "\n",
    "#df_activated_label.groupby([df_activated_label['dateheure'].dt.hour])\n",
    "#df_activated_label"
   ]
  },
  {
   "cell_type": "code",
   "execution_count": 18,
   "id": "2805a6d9",
   "metadata": {},
   "outputs": [
    {
     "data": {
      "image/png": "[encoded data removed]",
      "text/plain": [
       "<Figure size 1080x504 with 3 Axes>"
      ]
     },
     "metadata": {},
     "output_type": "display_data"
    }
   ],
   "source": [
    "# Regroupement des données par heure d'observation\n",
    "\n",
    "# Reprise du df avec les données labellées pour le trier par heures croissantes\n",
    "df_activated_sorted_h = df_activated_label.sort_values(by=['h_m_s'])\n",
    "\n",
    "# Pour n'avoir que les heures pleines sur l'axe des y\n",
    "y = [k.strftime('%H') for k in df_activated_sorted_h['h_m_s']]\n",
    "\n",
    "sns.set_style(\"whitegrid\")\n",
    "plot = sns.jointplot(data=df_activated_label, x ='date',color=\"g\", y=y)\n",
    "plot.set_axis_labels('date', 'heure', fontsize=16)\n",
    "\n",
    "plot.ax_joint.tick_params(axis=\"x\", rotation=45)\n",
    "\n",
    "plot.fig.set_figwidth(15)\n",
    "plot.fig.set_figheight(7)"
   ]
  },
  {
   "cell_type": "code",
   "execution_count": 22,
   "id": "7b419446",
   "metadata": {},
   "outputs": [
    {
     "data": {
      "image/png": "[encoded data removed]",
      "text/plain": [
       "<Figure size 1080x576 with 1 Axes>"
      ]
     },
     "metadata": {},
     "output_type": "display_data"
    }
   ],
   "source": [
    "# Histogramme de nombre d'animaux (grenouille/crapaud/triton) captés par jour\n",
    "\n",
    "plt.figure(figsize=(15,8))\n",
    "\n",
    "sns.histplot(data=df_activated_label, x='date')\n",
    "plt.xticks(df_activated_label.date.unique(), rotation=45)\n",
    "\n",
    "plt.xlabel('date', fontsize=18)\n",
    "plt.ylabel('nombre d\\'observation', fontsize=16)\n",
    "\n",
    "plt.show()"
   ]
  },
  {
   "cell_type": "markdown",
   "id": "4aede632",
   "metadata": {},
   "source": [
    "Comme on voit qu'il n'y a de grenouille/triton/crapaud repérés seulement en mars, on fait un petit contrôle des données :"
   ]
  },
  {
   "cell_type": "code",
   "execution_count": 26,
   "id": "a61c5903",
   "metadata": {},
   "outputs": [
    {
     "data": {
      "text/plain": [
       "2017-03-10    80\n",
       "2017-03-04    32\n",
       "2017-03-15    30\n",
       "2017-03-16    24\n",
       "2017-03-23    24\n",
       "2017-03-13    19\n",
       "2017-03-27    19\n",
       "2017-03-28    18\n",
       "2017-03-09    12\n",
       "2017-03-22    12\n",
       "2017-03-05    11\n",
       "2017-03-11    10\n",
       "2017-03-06     9\n",
       "2017-03-14     8\n",
       "2017-03-21     5\n",
       "Name: date, dtype: int64"
      ]
     },
     "execution_count": 26,
     "metadata": {},
     "output_type": "execute_result"
    }
   ],
   "source": [
    "df_activated_label.date.value_counts()"
   ]
  },
  {
   "cell_type": "code",
   "execution_count": 20,
   "id": "eb25fece",
   "metadata": {},
   "outputs": [
    {
     "data": {
      "text/plain": [
       "2017-02-27    2651\n",
       "2017-03-05    1974\n",
       "2017-02-26    1774\n",
       "2017-02-28    1425\n",
       "2017-03-01     746\n",
       "2017-03-18     410\n",
       "2017-03-04     304\n",
       "2017-04-10     279\n",
       "2017-04-12     249\n",
       "2017-03-06     235\n",
       "2017-04-01     228\n",
       "2017-04-03     216\n",
       "2017-04-19     214\n",
       "2017-04-20     203\n",
       "2017-04-11     175\n",
       "2017-04-14     162\n",
       "2017-03-22     162\n",
       "2017-03-10     159\n",
       "2017-03-02     154\n",
       "2017-03-09     152\n",
       "2017-03-16     140\n",
       "2017-03-17     140\n",
       "2017-04-05     129\n",
       "2017-04-02     124\n",
       "2017-03-13     121\n",
       "2017-04-08     120\n",
       "2017-04-09     113\n",
       "2017-04-13     102\n",
       "2017-03-30     102\n",
       "2017-03-31      99\n",
       "2017-04-04      99\n",
       "2017-03-07      92\n",
       "2017-04-07      89\n",
       "2017-03-12      88\n",
       "2017-03-28      79\n",
       "2017-04-18      74\n",
       "2017-04-06      73\n",
       "2017-03-27      70\n",
       "2017-03-26      66\n",
       "2017-03-11      63\n",
       "2017-04-16      61\n",
       "2017-03-15      57\n",
       "2017-03-25      47\n",
       "2017-03-29      46\n",
       "2017-03-20      41\n",
       "2017-03-03      31\n",
       "2017-03-19      31\n",
       "2017-03-21      30\n",
       "2017-03-23      26\n",
       "2017-04-17      26\n",
       "2017-03-24      24\n",
       "2017-04-15      21\n",
       "2017-03-14      21\n",
       "2017-03-08      20\n",
       "Name: date, dtype: int64"
      ]
     },
     "execution_count": 20,
     "metadata": {},
     "output_type": "execute_result"
    }
   ],
   "source": [
    "df_labels.date.value_counts()"
   ]
  },
  {
   "cell_type": "markdown",
   "id": "ed85987b",
   "metadata": {},
   "source": [
    "On voit donc ici que beaucoup de nos données sont de mars ; il n'est donc pas surprenant que les données avec 'label actif' soient en mars. Regroupons le nombre de données que l'on a par mois : "
   ]
  },
  {
   "cell_type": "code",
   "execution_count": 21,
   "id": "845ed8ba",
   "metadata": {},
   "outputs": [
    {
     "data": {
      "image/png": "[encoded data removed]",
      "text/plain": [
       "<Figure size 1080x576 with 1 Axes>"
      ]
     },
     "metadata": {},
     "output_type": "display_data"
    }
   ],
   "source": [
    "plt.figure(figsize=(15,8))\n",
    "\n",
    "sns.histplot(data=df_activated_label, x='mois')\n",
    "\n",
    "plt.xlabel('mois', fontsize=18)\n",
    "plt.ylabel('nombre d\\'observation', fontsize=16)\n",
    "\n",
    "plt.show()"
   ]
  },
  {
   "cell_type": "code",
   "execution_count": 23,
   "id": "76ddce34",
   "metadata": {},
   "outputs": [],
   "source": [
    "# Idée pour plus tard : dissocier les graphiques suivant les combinaisons d'animaux repérés\n",
    "# sns.histplot(data=df_activated_label, x='date', hue='c_g_t')\n",
    "\n",
    "# Remaining questions : \n",
    "# - quand on a plusieurs photos a la suite => plusieurs données alors qu'une observation \n",
    "# - météo : pas assez de données => on laisse tomber ? Check avec les données de bounding box de Joris"
   ]
  },
  {
   "cell_type": "markdown",
   "id": "9f8cb7a1",
   "metadata": {},
   "source": [
    "Regrouper les données par heure : \n",
    "- ébauche de groupby : https://codenostra.com/fr/comment-regrouper-les-dataframes-par-heure-en-utilisant-lhorodatage-avec-pandas.html\n"
   ]
  }
 ],
 "metadata": {
  "kernelspec": {
   "display_name": "pcd",
   "language": "python",
   "name": "pcd"
  },
  "language_info": {
   "codemirror_mode": {
    "name": "ipython",
    "version": 3
   },
   "file_extension": ".py",
   "mimetype": "text/x-python",
   "name": "python",
   "nbconvert_exporter": "python",
   "pygments_lexer": "ipython3",
   "version": "3.9.7"
  }
 },
 "nbformat": 4,
 "nbformat_minor": 5
}
