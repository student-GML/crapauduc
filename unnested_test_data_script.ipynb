{
 "cells": [
  {
   "cell_type": "code",
   "execution_count": 1,
   "metadata": {},
   "outputs": [],
   "source": [
    "import pandas as pd\n",
    "import os\n",
    "import shutil "
   ]
  },
  {
   "cell_type": "code",
   "execution_count": 2,
   "metadata": {},
   "outputs": [],
   "source": [
    "# Create a folder that contains the data\n",
    "#!mkdir test_data"
   ]
  },
  {
   "cell_type": "code",
   "execution_count": 3,
   "metadata": {},
   "outputs": [
    {
     "data": {
      "text/plain": [
       "['Camera1', 'Camera3']"
      ]
     },
     "execution_count": 3,
     "metadata": {},
     "output_type": "execute_result"
    }
   ],
   "source": [
    "PATH_S = r\"C:\\Users\\Admin\\Desktop\\Heig-Annee3\\Semestre1\\GML\\Projet\\crapauduc\\test_subset\"\n",
    "PATH_D = r\"C:\\Users\\Admin\\Desktop\\Heig-Annee3\\Semestre1\\GML\\Projet\\crapauduc\"\n",
    "cameras = os.listdir(PATH_S)\n",
    "cameras"
   ]
  },
  {
   "cell_type": "code",
   "execution_count": 4,
   "metadata": {},
   "outputs": [],
   "source": [
    "for camera in cameras:\n",
    "    #print(camera)\n",
    "    camera_dest = f'test_cam{camera[-1:]}'\n",
    "    #print(camera_dest)\n",
    "    for animals in os.listdir(os.path.join(PATH_S, camera)): # date\n",
    "        #print('\\t', animals)\n",
    "        for date in os.listdir(os.path.join(PATH_S, camera, animals)): # hour\n",
    "            #print(date)\n",
    "            for image_name in os.listdir(os.path.join(PATH_S, camera, animals, date)):\n",
    "                #print(image_name)\n",
    "                source = os.path.join(PATH_S, camera, animals,  date, image_name)\n",
    "                destination = os.path.join(PATH_D, camera_dest, f'T{date}_{image_name[:2]}.jpg')\n",
    "                #print(source)\n",
    "                #print(destination)\n",
    "                shutil.copy(source, destination)"
   ]
  }
 ],
 "metadata": {
  "kernelspec": {
   "display_name": "myEnv",
   "language": "python",
   "name": "python3"
  },
  "language_info": {
   "codemirror_mode": {
    "name": "ipython",
    "version": 3
   },
   "file_extension": ".py",
   "mimetype": "text/x-python",
   "name": "python",
   "nbconvert_exporter": "python",
   "pygments_lexer": "ipython3",
   "version": "3.8.13 (default, Mar 28 2022, 06:59:08) [MSC v.1916 64 bit (AMD64)]"
  },
  "orig_nbformat": 4,
  "vscode": {
   "interpreter": {
    "hash": "e00ab220b4b935fd3f010996bbfd0b76f2c76eaaaa11cfb77b8f126d1bd88e5e"
   }
  }
 },
 "nbformat": 4,
 "nbformat_minor": 2
}
