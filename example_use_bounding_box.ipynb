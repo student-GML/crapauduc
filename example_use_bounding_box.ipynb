{
 "cells": [
  {
   "cell_type": "code",
   "execution_count": 1,
   "metadata": {},
   "outputs": [],
   "source": [
    "import pandas as pd\n",
    "import numpy as np\n",
    "import matplotlib.pyplot as plt\n",
    "import seaborn as sns\n",
    "import torch as th\n",
    "import torchvision as tv\n",
    "import torchvision.transforms as T"
   ]
  },
  {
   "cell_type": "code",
   "execution_count": 2,
   "metadata": {},
   "outputs": [],
   "source": [
    "DISQUE_PATH = '/Volumes/Olivier/crapauduc/'\n",
    "bb_csv = pd.read_csv(\"data/path_and_bounding_box.csv\")"
   ]
  },
  {
   "cell_type": "code",
   "execution_count": 3,
   "metadata": {},
   "outputs": [
    {
     "data": {
      "text/plain": [
       "feuille       1085\n",
       "insect         270\n",
       "triton         225\n",
       "grenouille     201\n",
       "souris         197\n",
       "plastic         38\n",
       "oiseau           3\n",
       "animal           2\n",
       "Name: class, dtype: int64"
      ]
     },
     "execution_count": 3,
     "metadata": {},
     "output_type": "execute_result"
    }
   ],
   "source": [
    "bb_csv['class'].value_counts()"
   ]
  },
  {
   "cell_type": "code",
   "execution_count": 4,
   "metadata": {},
   "outputs": [],
   "source": [
    "#get the triton lines\n",
    "triton_paths = bb_csv[bb_csv['class'] == 'triton']\n"
   ]
  },
  {
   "cell_type": "code",
   "execution_count": 5,
   "metadata": {},
   "outputs": [],
   "source": [
    "#get the first line talking about a triton\n",
    "img_triton_1 = triton_paths.iloc[0]\n",
    "\n",
    "bounding_box = img_triton_1\n",
    "#get the values about the bounding box\n",
    "x1,y1,w,h = bounding_box['top_left_x'],bounding_box['top_left_y'],bounding_box['w'],bounding_box['h']\n",
    "#create a tansor representing a bounding box \n",
    "#note that the bbox is (top left x, top left y), (bottom right x, bottom right y)\n",
    "bbox_t = th.tensor([x1, y1, x1 +w, y1+h]).reshape(-1,4)"
   ]
  },
  {
   "cell_type": "code",
   "execution_count": 6,
   "metadata": {},
   "outputs": [
    {
     "data": {
      "text/plain": [
       "class                                             triton\n",
       "top_left_x                                          1295\n",
       "top_left_y                                           382\n",
       "w                                                     99\n",
       "h                                                    183\n",
       "img_size_x                                          1920\n",
       "img_size_y                                          1080\n",
       "name                             2017-03-23T04:55:21.jpg\n",
       "date                                 2017-03-23 04:55:21\n",
       "takes                                               5532\n",
       "path          camera_04_unnested/2017-03-23T04:55:21.jpg\n",
       "Name: 8, dtype: object"
      ]
     },
     "execution_count": 6,
     "metadata": {},
     "output_type": "execute_result"
    }
   ],
   "source": [
    "img_triton_1"
   ]
  },
  {
   "cell_type": "code",
   "execution_count": 7,
   "metadata": {},
   "outputs": [
    {
     "name": "stdout",
     "output_type": "stream",
     "text": [
      "class                                             triton\n",
      "top_left_x                                          1295\n",
      "top_left_y                                           382\n",
      "w                                                     99\n",
      "h                                                    183\n",
      "img_size_x                                          1920\n",
      "img_size_y                                          1080\n",
      "name                             2017-03-23T04:55:21.jpg\n",
      "date                                 2017-03-23 04:55:21\n",
      "takes                                               5532\n",
      "path          camera_04_unnested/2017-03-23T04:55:21.jpg\n",
      "Name: 8, dtype: object\n"
     ]
    },
    {
     "ename": "RuntimeError",
     "evalue": "[Errno 2] No such file or directory: '/Volumes/Olivier/crapauduc/camera_04_unnested/2017-03-23T04:55:21.jpg'",
     "output_type": "error",
     "traceback": [
      "\u001b[0;31m---------------------------------------------------------------------------\u001b[0m",
      "\u001b[0;31mRuntimeError\u001b[0m                              Traceback (most recent call last)",
      "Cell \u001b[0;32mIn [7], line 2\u001b[0m\n\u001b[1;32m      1\u001b[0m \u001b[39mprint\u001b[39m(bounding_box)\n\u001b[0;32m----> 2\u001b[0m img \u001b[39m=\u001b[39m tv\u001b[39m.\u001b[39mio\u001b[39m.\u001b[39mread_image(DISQUE_PATH\u001b[39m+\u001b[39mimg_triton_1[\u001b[39m'\u001b[39m\u001b[39mpath\u001b[39m\u001b[39m'\u001b[39m])\n\u001b[1;32m      3\u001b[0m img \u001b[39m=\u001b[39m tv\u001b[39m.\u001b[39mutils\u001b[39m.\u001b[39mdraw_bounding_boxes(img, bbox_t, width\u001b[39m=\u001b[39m\u001b[39m2\u001b[39m)\n\u001b[1;32m      4\u001b[0m img \u001b[39m=\u001b[39m T\u001b[39m.\u001b[39mToPILImage()(img\u001b[39m.\u001b[39mto(\u001b[39m'\u001b[39m\u001b[39mcpu\u001b[39m\u001b[39m'\u001b[39m))\n",
      "File \u001b[0;32m~/miniforge3/envs/gml/lib/python3.9/site-packages/torchvision/io/image.py:251\u001b[0m, in \u001b[0;36mread_image\u001b[0;34m(path, mode)\u001b[0m\n\u001b[1;32m    249\u001b[0m \u001b[39mif\u001b[39;00m \u001b[39mnot\u001b[39;00m torch\u001b[39m.\u001b[39mjit\u001b[39m.\u001b[39mis_scripting() \u001b[39mand\u001b[39;00m \u001b[39mnot\u001b[39;00m torch\u001b[39m.\u001b[39mjit\u001b[39m.\u001b[39mis_tracing():\n\u001b[1;32m    250\u001b[0m     _log_api_usage_once(read_image)\n\u001b[0;32m--> 251\u001b[0m data \u001b[39m=\u001b[39m read_file(path)\n\u001b[1;32m    252\u001b[0m \u001b[39mreturn\u001b[39;00m decode_image(data, mode)\n",
      "File \u001b[0;32m~/miniforge3/envs/gml/lib/python3.9/site-packages/torchvision/io/image.py:47\u001b[0m, in \u001b[0;36mread_file\u001b[0;34m(path)\u001b[0m\n\u001b[1;32m     45\u001b[0m \u001b[39mif\u001b[39;00m \u001b[39mnot\u001b[39;00m torch\u001b[39m.\u001b[39mjit\u001b[39m.\u001b[39mis_scripting() \u001b[39mand\u001b[39;00m \u001b[39mnot\u001b[39;00m torch\u001b[39m.\u001b[39mjit\u001b[39m.\u001b[39mis_tracing():\n\u001b[1;32m     46\u001b[0m     _log_api_usage_once(read_file)\n\u001b[0;32m---> 47\u001b[0m data \u001b[39m=\u001b[39m torch\u001b[39m.\u001b[39;49mops\u001b[39m.\u001b[39;49mimage\u001b[39m.\u001b[39;49mread_file(path)\n\u001b[1;32m     48\u001b[0m \u001b[39mreturn\u001b[39;00m data\n",
      "File \u001b[0;32m~/miniforge3/envs/gml/lib/python3.9/site-packages/torch/_ops.py:143\u001b[0m, in \u001b[0;36mOpOverloadPacket.__call__\u001b[0;34m(self, *args, **kwargs)\u001b[0m\n\u001b[1;32m    138\u001b[0m \u001b[39mdef\u001b[39;00m \u001b[39m__call__\u001b[39m(\u001b[39mself\u001b[39m, \u001b[39m*\u001b[39margs, \u001b[39m*\u001b[39m\u001b[39m*\u001b[39mkwargs):\n\u001b[1;32m    139\u001b[0m     \u001b[39m# overloading __call__ to ensure torch.ops.foo.bar()\u001b[39;00m\n\u001b[1;32m    140\u001b[0m     \u001b[39m# is still callable from JIT\u001b[39;00m\n\u001b[1;32m    141\u001b[0m     \u001b[39m# We save the function ptr as the `op` attribute on\u001b[39;00m\n\u001b[1;32m    142\u001b[0m     \u001b[39m# OpOverloadPacket to access it here.\u001b[39;00m\n\u001b[0;32m--> 143\u001b[0m     \u001b[39mreturn\u001b[39;00m \u001b[39mself\u001b[39;49m\u001b[39m.\u001b[39;49m_op(\u001b[39m*\u001b[39;49margs, \u001b[39m*\u001b[39;49m\u001b[39m*\u001b[39;49mkwargs \u001b[39mor\u001b[39;49;00m {})\n",
      "\u001b[0;31mRuntimeError\u001b[0m: [Errno 2] No such file or directory: '/Volumes/Olivier/crapauduc/camera_04_unnested/2017-03-23T04:55:21.jpg'"
     ]
    }
   ],
   "source": [
    "#print(bounding_box)\n",
    "img = tv.io.read_image(DISQUE_PATH+img_triton_1['path'])\n",
    "img = tv.utils.draw_bounding_boxes(img, bbox_t, width=2)\n",
    "img = T.ToPILImage()(img.to('cpu'))\n",
    "plt.imshow(img)\n"
   ]
  }
 ],
 "metadata": {
  "kernelspec": {
   "display_name": "Python 3.9.13 ('gml')",
   "language": "python",
   "name": "python3"
  },
  "language_info": {
   "codemirror_mode": {
    "name": "ipython",
    "version": 3
   },
   "file_extension": ".py",
   "mimetype": "text/x-python",
   "name": "python",
   "nbconvert_exporter": "python",
   "pygments_lexer": "ipython3",
   "version": "3.9.13"
  },
  "orig_nbformat": 4,
  "vscode": {
   "interpreter": {
    "hash": "7828d59b56c48731e2801e1448406405e81324568b4a19208b98ae09cc6d58e7"
   }
  }
 },
 "nbformat": 4,
 "nbformat_minor": 2
}
