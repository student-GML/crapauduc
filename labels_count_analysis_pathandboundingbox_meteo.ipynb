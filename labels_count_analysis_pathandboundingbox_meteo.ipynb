{
 "cells": [
  {
   "cell_type": "markdown",
   "id": "0c80d4bf",
   "metadata": {},
   "source": [
    "<img src=\"https://heig-vd.ch/docs/default-source/doc-global-newsletter/2020-slim.svg\" alt=\"Logo HEIG-VD\" style=\"width: 80px;\" align=\"right\"/>\n",
    "\n",
    "# Course GML - CRAPAUDUC Project"
   ]
  },
  {
   "cell_type": "code",
   "execution_count": 1,
   "id": "a6dd5fc0",
   "metadata": {},
   "outputs": [],
   "source": [
    "from datetime import datetime as dt\n",
    "\n",
    "import matplotlib.pyplot as plt\n",
    "import pandas            as pd\n",
    "import seaborn           as sns"
   ]
  },
  {
   "cell_type": "markdown",
   "id": "b51610f4",
   "metadata": {},
   "source": [
    "## Data importation"
   ]
  },
  {
   "cell_type": "code",
   "execution_count": 30,
   "id": "b880f50c",
   "metadata": {},
   "outputs": [
    {
     "data": {
      "text/html": [
       "<div>\n",
       "<style scoped>\n",
       "    .dataframe tbody tr th:only-of-type {\n",
       "        vertical-align: middle;\n",
       "    }\n",
       "\n",
       "    .dataframe tbody tr th {\n",
       "        vertical-align: top;\n",
       "    }\n",
       "\n",
       "    .dataframe thead th {\n",
       "        text-align: right;\n",
       "    }\n",
       "</style>\n",
       "<table border=\"1\" class=\"dataframe\">\n",
       "  <thead>\n",
       "    <tr style=\"text-align: right;\">\n",
       "      <th></th>\n",
       "      <th>class</th>\n",
       "      <th>top_left_x</th>\n",
       "      <th>top_left_y</th>\n",
       "      <th>w</th>\n",
       "      <th>h</th>\n",
       "      <th>img_size_x</th>\n",
       "      <th>img_size_y</th>\n",
       "      <th>name</th>\n",
       "      <th>date</th>\n",
       "      <th>takes</th>\n",
       "      <th>path</th>\n",
       "    </tr>\n",
       "  </thead>\n",
       "  <tbody>\n",
       "    <tr>\n",
       "      <th>0</th>\n",
       "      <td>grenouille-crapaud</td>\n",
       "      <td>1242</td>\n",
       "      <td>236</td>\n",
       "      <td>208</td>\n",
       "      <td>343</td>\n",
       "      <td>1920</td>\n",
       "      <td>1080</td>\n",
       "      <td>2017-03-10T02:20:00.jpg</td>\n",
       "      <td>2017-03-10 02:20:00</td>\n",
       "      <td>474</td>\n",
       "      <td>camera_06_unnested/2017-03-10T02_20_00.jpg</td>\n",
       "    </tr>\n",
       "    <tr>\n",
       "      <th>1</th>\n",
       "      <td>grenouille-crapaud</td>\n",
       "      <td>1242</td>\n",
       "      <td>191</td>\n",
       "      <td>214</td>\n",
       "      <td>279</td>\n",
       "      <td>1920</td>\n",
       "      <td>1080</td>\n",
       "      <td>2017-03-10T02:20:01.jpg</td>\n",
       "      <td>2017-03-10 02:20:01</td>\n",
       "      <td>474</td>\n",
       "      <td>camera_06_unnested/2017-03-10T02_20_01.jpg</td>\n",
       "    </tr>\n",
       "    <tr>\n",
       "      <th>2</th>\n",
       "      <td>grenouille-crapaud</td>\n",
       "      <td>1312</td>\n",
       "      <td>101</td>\n",
       "      <td>141</td>\n",
       "      <td>307</td>\n",
       "      <td>1920</td>\n",
       "      <td>1080</td>\n",
       "      <td>2017-03-10T02:20:02.jpg</td>\n",
       "      <td>2017-03-10 02:20:02</td>\n",
       "      <td>474</td>\n",
       "      <td>camera_06_unnested/2017-03-10T02_20_02.jpg</td>\n",
       "    </tr>\n",
       "    <tr>\n",
       "      <th>3</th>\n",
       "      <td>grenouille-crapaud</td>\n",
       "      <td>1151</td>\n",
       "      <td>340</td>\n",
       "      <td>220</td>\n",
       "      <td>239</td>\n",
       "      <td>1920</td>\n",
       "      <td>1080</td>\n",
       "      <td>2017-03-10T02:20:22.jpg</td>\n",
       "      <td>2017-03-10 02:20:22</td>\n",
       "      <td>475</td>\n",
       "      <td>camera_06_unnested/2017-03-10T02_20_22.jpg</td>\n",
       "    </tr>\n",
       "    <tr>\n",
       "      <th>4</th>\n",
       "      <td>grenouille-crapaud</td>\n",
       "      <td>1151</td>\n",
       "      <td>334</td>\n",
       "      <td>200</td>\n",
       "      <td>234</td>\n",
       "      <td>1920</td>\n",
       "      <td>1080</td>\n",
       "      <td>2017-03-10T02:20:23.jpg</td>\n",
       "      <td>2017-03-10 02:20:23</td>\n",
       "      <td>475</td>\n",
       "      <td>camera_06_unnested/2017-03-10T02_20_23.jpg</td>\n",
       "    </tr>\n",
       "  </tbody>\n",
       "</table>\n",
       "</div>"
      ],
      "text/plain": [
       "                class  top_left_x  top_left_y    w    h  img_size_x  \\\n",
       "0  grenouille-crapaud        1242         236  208  343        1920   \n",
       "1  grenouille-crapaud        1242         191  214  279        1920   \n",
       "2  grenouille-crapaud        1312         101  141  307        1920   \n",
       "3  grenouille-crapaud        1151         340  220  239        1920   \n",
       "4  grenouille-crapaud        1151         334  200  234        1920   \n",
       "\n",
       "   img_size_y                     name                 date  takes  \\\n",
       "0        1080  2017-03-10T02:20:00.jpg  2017-03-10 02:20:00    474   \n",
       "1        1080  2017-03-10T02:20:01.jpg  2017-03-10 02:20:01    474   \n",
       "2        1080  2017-03-10T02:20:02.jpg  2017-03-10 02:20:02    474   \n",
       "3        1080  2017-03-10T02:20:22.jpg  2017-03-10 02:20:22    475   \n",
       "4        1080  2017-03-10T02:20:23.jpg  2017-03-10 02:20:23    475   \n",
       "\n",
       "                                         path  \n",
       "0  camera_06_unnested/2017-03-10T02_20_00.jpg  \n",
       "1  camera_06_unnested/2017-03-10T02_20_01.jpg  \n",
       "2  camera_06_unnested/2017-03-10T02_20_02.jpg  \n",
       "3  camera_06_unnested/2017-03-10T02_20_22.jpg  \n",
       "4  camera_06_unnested/2017-03-10T02_20_23.jpg  "
      ]
     },
     "execution_count": 30,
     "metadata": {},
     "output_type": "execute_result"
    }
   ],
   "source": [
    "# Import labels file \n",
    "df_labels = pd.read_csv('data/path_and_bounding_box.csv')\n",
    "df_labels.head()"
   ]
  },
  {
   "cell_type": "code",
   "execution_count": 3,
   "id": "3a2ee95f",
   "metadata": {},
   "outputs": [
    {
     "data": {
      "text/plain": [
       "feuille               1085\n",
       "insect                 270\n",
       "triton                 225\n",
       "grenouille-crapaud     201\n",
       "souris                 197\n",
       "plastic                 38\n",
       "oiseau                   3\n",
       "animal                   2\n",
       "Name: class, dtype: int64"
      ]
     },
     "execution_count": 3,
     "metadata": {},
     "output_type": "execute_result"
    }
   ],
   "source": [
    "df_labels['class'].value_counts()"
   ]
  },
  {
   "cell_type": "markdown",
   "id": "c88b3002",
   "metadata": {},
   "source": [
    "## Data preparation"
   ]
  },
  {
   "cell_type": "code",
   "execution_count": 4,
   "id": "76dc1d1f",
   "metadata": {},
   "outputs": [
    {
     "data": {
      "text/plain": [
       "class         0\n",
       "top_left_x    0\n",
       "top_left_y    0\n",
       "w             0\n",
       "h             0\n",
       "img_size_x    0\n",
       "img_size_y    0\n",
       "name          0\n",
       "date          0\n",
       "takes         0\n",
       "path          0\n",
       "dtype: int64"
      ]
     },
     "execution_count": 4,
     "metadata": {},
     "output_type": "execute_result"
    }
   ],
   "source": [
    "# Search for missing values\n",
    "df_labels.isnull().sum()"
   ]
  },
  {
   "cell_type": "code",
   "execution_count": 5,
   "id": "6986e954",
   "metadata": {},
   "outputs": [
    {
     "data": {
      "text/plain": [
       "str"
      ]
     },
     "execution_count": 5,
     "metadata": {},
     "output_type": "execute_result"
    }
   ],
   "source": [
    "type(df_labels['date'][0])"
   ]
  },
  {
   "cell_type": "code",
   "execution_count": 6,
   "id": "da2b82b1",
   "metadata": {},
   "outputs": [
    {
     "data": {
      "text/plain": [
       "0   2017-03-10 02:20:00\n",
       "1   2017-03-10 02:20:01\n",
       "2   2017-03-10 02:20:02\n",
       "3   2017-03-10 02:20:22\n",
       "4   2017-03-10 02:20:23\n",
       "Name: dateheure, dtype: datetime64[ns]"
      ]
     },
     "execution_count": 6,
     "metadata": {},
     "output_type": "execute_result"
    }
   ],
   "source": [
    "# String to datetime so we can work with numbers (order them, ...)\n",
    "df_labels['dateheure'] = [dt.strptime(df_labels['date'][i], '%Y-%m-%d %H:%M:%S') for i in range(len(df_labels['date']))]\n",
    "df_labels['dateheure'].head()"
   ]
  },
  {
   "cell_type": "markdown",
   "id": "0a5050fd",
   "metadata": {},
   "source": [
    "## Exploratory analysis"
   ]
  },
  {
   "cell_type": "markdown",
   "id": "089d5ea6",
   "metadata": {},
   "source": [
    "### Counts and relative percentage of quantity observed, for each label"
   ]
  },
  {
   "cell_type": "code",
   "execution_count": 9,
   "id": "5559fb27",
   "metadata": {},
   "outputs": [
    {
     "name": "stdout",
     "output_type": "stream",
     "text": [
      "2017-03-10\n"
     ]
    }
   ],
   "source": [
    "# Percentage of each label in dataframe \n",
    "print(df_labels['dateheure'][0].date())"
   ]
  },
  {
   "cell_type": "code",
   "execution_count": 10,
   "id": "7cd7722a",
   "metadata": {},
   "outputs": [
    {
     "data": {
      "text/plain": [
       "2017-04-05    910\n",
       "2017-04-06    266\n",
       "2017-04-01    260\n",
       "2017-03-09    153\n",
       "2017-04-15     98\n",
       "2017-04-13     83\n",
       "2017-03-15     47\n",
       "2017-03-13     41\n",
       "2017-03-14     36\n",
       "2017-03-23     32\n",
       "2017-03-22     28\n",
       "2017-03-11     24\n",
       "2017-03-12     19\n",
       "2017-03-10     10\n",
       "2017-03-16      8\n",
       "2017-03-19      6\n",
       "dtype: int64"
      ]
     },
     "execution_count": 10,
     "metadata": {},
     "output_type": "execute_result"
    }
   ],
   "source": [
    "# Number of dates registered\n",
    "pd.Series([d.date() for d in df_labels['dateheure']]).value_counts()"
   ]
  },
  {
   "cell_type": "markdown",
   "id": "8a7cd68a",
   "metadata": {},
   "source": [
    "### Observation per date per label"
   ]
  },
  {
   "cell_type": "code",
   "execution_count": 11,
   "id": "5dc06920",
   "metadata": {},
   "outputs": [],
   "source": [
    "# Creation of a column storing the date in format yyyy-mm-dd\n",
    "df_labels['y_m_d'] = [d.date() for d in df_labels['dateheure']]"
   ]
  },
  {
   "cell_type": "code",
   "execution_count": 12,
   "id": "becef33a",
   "metadata": {},
   "outputs": [
    {
     "data": {
      "text/plain": [
       "<AxesSubplot:xlabel='y_m_d', ylabel='Count'>"
      ]
     },
     "execution_count": 12,
     "metadata": {},
     "output_type": "execute_result"
    },
    {
     "data": {
      "image/png": "[encoded data removed]",
      "text/plain": [
       "<Figure size 1080x1440 with 1 Axes>"
      ]
     },
     "metadata": {
      "needs_background": "light"
     },
     "output_type": "display_data"
    }
   ],
   "source": [
    "plt.figure(figsize=(15,20))\n",
    "sns.histplot(data=df_labels, x='y_m_d', hue='class')"
   ]
  },
  {
   "cell_type": "markdown",
   "id": "e036b363",
   "metadata": {},
   "source": [
    "### Labels observed (date - time - number of observation)"
   ]
  },
  {
   "cell_type": "code",
   "execution_count": 13,
   "id": "2231019e",
   "metadata": {},
   "outputs": [
    {
     "data": {
      "text/plain": [
       "triton                225\n",
       "grenouille-crapaud    201\n",
       "Name: class, dtype: int64"
      ]
     },
     "execution_count": 13,
     "metadata": {},
     "output_type": "execute_result"
    }
   ],
   "source": [
    "# Creation of a dataframe containing only the samples where we saw a frog-toad or a triton\n",
    "df_activated_label = df_labels.loc[(df_labels['class']=='grenouille-crapaud') | (df_labels['class']=='triton')]\n",
    "df_activated_label['class'].value_counts()"
   ]
  },
  {
   "cell_type": "code",
   "execution_count": 14,
   "id": "9febf763",
   "metadata": {},
   "outputs": [
    {
     "data": {
      "text/plain": [
       "(426, 17)"
      ]
     },
     "execution_count": 14,
     "metadata": {},
     "output_type": "execute_result"
    }
   ],
   "source": [
    "# Size of new dataframe \n",
    "df_activated_label.shape"
   ]
  },
  {
   "cell_type": "code",
   "execution_count": 15,
   "id": "afc72ded",
   "metadata": {},
   "outputs": [
    {
     "data": {
      "text/plain": [
       "2017-03-09    153\n",
       "2017-03-15     47\n",
       "2017-03-13     41\n",
       "2017-03-14     36\n",
       "2017-03-23     32\n",
       "2017-03-22     28\n",
       "2017-03-11     24\n",
       "2017-04-01     22\n",
       "2017-03-12     19\n",
       "2017-03-10     10\n",
       "2017-03-16      8\n",
       "2017-03-19      6\n",
       "Name: y_m_d, dtype: int64"
      ]
     },
     "execution_count": 15,
     "metadata": {},
     "output_type": "execute_result"
    }
   ],
   "source": [
    "# Dates at which frog-toad or triton were seen\n",
    "# Number of dates registered\n",
    "pd.Series(df_activated_label['y_m_d']).value_counts()"
   ]
  },
  {
   "cell_type": "code",
   "execution_count": 17,
   "id": "2805a6d9",
   "metadata": {},
   "outputs": [
    {
     "name": "stderr",
     "output_type": "stream",
     "text": [
      "/var/folders/zg/9zpxgr6n3d358_qwx52_x__h0000gn/T/ipykernel_31477/510979837.py:4: SettingWithCopyWarning: \n",
      "A value is trying to be set on a copy of a slice from a DataFrame.\n",
      "Try using .loc[row_indexer,col_indexer] = value instead\n",
      "\n",
      "See the caveats in the documentation: https://pandas.pydata.org/pandas-docs/stable/user_guide/indexing.html#returning-a-view-versus-a-copy\n",
      "  df_activated_label['h_m_s']  = [d.time() for d in df_activated_label['dateheure']]\n"
     ]
    },
    {
     "data": {
      "image/png": "[encoded data removed]",
      "text/plain": [
       "<Figure size 1080x504 with 3 Axes>"
      ]
     },
     "metadata": {},
     "output_type": "display_data"
    }
   ],
   "source": [
    "# Regroupement des données par heure d'observation\n",
    "\n",
    "# Reprise du df avec les données labellées pour le trier par heures croissantes\n",
    "df_activated_label['h_m_s']  = [d.time() for d in df_activated_label['dateheure']]\n",
    "df_activated_sorted_h = df_activated_label.sort_values(by=['h_m_s'])\n",
    "\n",
    "# Pour n'avoir que les heures pleines sur l'axe des y\n",
    "y = [k.strftime('%H') for k in df_activated_sorted_h['h_m_s']]\n",
    "\n",
    "sns.set_style(\"whitegrid\")\n",
    "\n",
    "plot = sns.jointplot(data=df_activated_label, x='y_m_d', y=y)\n",
    "plot.set_axis_labels('date', 'heure', fontsize=16)\n",
    "\n",
    "plot.ax_joint.tick_params(axis=\"x\", rotation=45)\n",
    "\n",
    "plot.fig.set_figwidth(15)\n",
    "plot.fig.set_figheight(7)"
   ]
  },
  {
   "cell_type": "code",
   "execution_count": 23,
   "id": "234e817e",
   "metadata": {},
   "outputs": [
    {
     "data": {
      "image/png": "[encoded data removed]",
      "text/plain": [
       "<Figure size 1080x504 with 3 Axes>"
      ]
     },
     "metadata": {},
     "output_type": "display_data"
    }
   ],
   "source": [
    "# Obersvations (date-heure) pour le label grenouille-crapaud\n",
    "\n",
    "df_g_c = df_activated_label.loc[df_activated_label['class']=='grenouille-crapaud']\n",
    "y      = [k.strftime('%H') for k in df_g_c['h_m_s']]\n",
    "\n",
    "sns.set_style(\"whitegrid\")\n",
    "\n",
    "plot = sns.jointplot(data=df_g_c, x='y_m_d', y=y, color='g')\n",
    "\n",
    "plot.set_axis_labels('date', 'heure', fontsize=16)\n",
    "\n",
    "plot.ax_joint.tick_params(axis=\"x\", rotation=45)\n",
    "\n",
    "plot.fig.set_figwidth(15)\n",
    "plot.fig.set_figheight(7)"
   ]
  },
  {
   "cell_type": "code",
   "execution_count": 24,
   "id": "2c96c311",
   "metadata": {},
   "outputs": [
    {
     "data": {
      "image/png": "[encoded data removed]",
      "text/plain": [
       "<Figure size 1080x504 with 3 Axes>"
      ]
     },
     "metadata": {},
     "output_type": "display_data"
    }
   ],
   "source": [
    "# Obersvations (date-heure) pour le label triton\n",
    "\n",
    "df_t = df_activated_label.loc[df_activated_label['class']=='triton']\n",
    "y    = [k.strftime('%H') for k in df_t['h_m_s']]\n",
    "\n",
    "sns.set_style(\"whitegrid\")\n",
    "\n",
    "plot = sns.jointplot(data=df_t, x='y_m_d', y=y, color='y')\n",
    "\n",
    "plot.set_axis_labels('date', 'heure', fontsize=16)\n",
    "\n",
    "plot.ax_joint.tick_params(axis=\"x\", rotation=45)\n",
    "\n",
    "plot.fig.set_figwidth(15)\n",
    "plot.fig.set_figheight(7)"
   ]
  },
  {
   "cell_type": "code",
   "execution_count": 27,
   "id": "7b419446",
   "metadata": {},
   "outputs": [
    {
     "data": {
      "image/png": "[encoded data removed]",
      "text/plain": [
       "<Figure size 1080x576 with 1 Axes>"
      ]
     },
     "metadata": {},
     "output_type": "display_data"
    }
   ],
   "source": [
    "# Histogramme de nombre d'animaux (grenouille/crapaud/triton) captés par jour\n",
    "\n",
    "plt.figure(figsize=(15,8))\n",
    "\n",
    "sns.histplot(data=df_activated_label, x='y_m_d', hue='class')\n",
    "plt.xticks(df_activated_label.date.unique(), rotation=45)\n",
    "\n",
    "plt.xlabel('date', fontsize=18)\n",
    "plt.ylabel('nombre d\\'observation', fontsize=16)\n",
    "\n",
    "plt.show()"
   ]
  },
  {
   "cell_type": "code",
   "execution_count": 29,
   "id": "845ed8ba",
   "metadata": {},
   "outputs": [
    {
     "data": {
      "image/png": "[encoded data removed]",
      "text/plain": [
       "<Figure size 1080x576 with 1 Axes>"
      ]
     },
     "metadata": {},
     "output_type": "display_data"
    }
   ],
   "source": [
    "plt.figure(figsize=(15,8))\n",
    "\n",
    "sns.histplot(data=df_activated_label, x='mois')\n",
    "\n",
    "plt.xlabel('mois', fontsize=18)\n",
    "plt.ylabel('nombre d\\'observation', fontsize=16)\n",
    "\n",
    "plt.show()"
   ]
  },
  {
   "cell_type": "markdown",
   "id": "77e74f83",
   "metadata": {},
   "source": [
    "## Ajout des données météorologiques"
   ]
  },
  {
   "cell_type": "code",
   "execution_count": 31,
   "id": "a9433c42",
   "metadata": {},
   "outputs": [
    {
     "data": {
      "text/html": [
       "<div>\n",
       "<style scoped>\n",
       "    .dataframe tbody tr th:only-of-type {\n",
       "        vertical-align: middle;\n",
       "    }\n",
       "\n",
       "    .dataframe tbody tr th {\n",
       "        vertical-align: top;\n",
       "    }\n",
       "\n",
       "    .dataframe thead th {\n",
       "        text-align: right;\n",
       "    }\n",
       "</style>\n",
       "<table border=\"1\" class=\"dataframe\">\n",
       "  <thead>\n",
       "    <tr style=\"text-align: right;\">\n",
       "      <th></th>\n",
       "      <th>date</th>\n",
       "      <th>temperature_celcius</th>\n",
       "      <th>wind_km/h</th>\n",
       "      <th>pressure_millibar</th>\n",
       "      <th>precipitation_mm</th>\n",
       "      <th>rain_bool</th>\n",
       "      <th>humidity</th>\n",
       "    </tr>\n",
       "  </thead>\n",
       "  <tbody>\n",
       "    <tr>\n",
       "      <th>0</th>\n",
       "      <td>2017-02-24</td>\n",
       "      <td>6</td>\n",
       "      <td>13</td>\n",
       "      <td>1014.50</td>\n",
       "      <td>0.0</td>\n",
       "      <td>True</td>\n",
       "      <td>53</td>\n",
       "    </tr>\n",
       "    <tr>\n",
       "      <th>1</th>\n",
       "      <td>2017-03-07</td>\n",
       "      <td>4</td>\n",
       "      <td>7</td>\n",
       "      <td>1018.82</td>\n",
       "      <td>2.0</td>\n",
       "      <td>True</td>\n",
       "      <td>84</td>\n",
       "    </tr>\n",
       "    <tr>\n",
       "      <th>2</th>\n",
       "      <td>2017-04-15</td>\n",
       "      <td>12</td>\n",
       "      <td>6</td>\n",
       "      <td>1018.21</td>\n",
       "      <td>0.0</td>\n",
       "      <td>True</td>\n",
       "      <td>58</td>\n",
       "    </tr>\n",
       "    <tr>\n",
       "      <th>3</th>\n",
       "      <td>2017-04-30</td>\n",
       "      <td>9</td>\n",
       "      <td>4</td>\n",
       "      <td>1010.28</td>\n",
       "      <td>0.1</td>\n",
       "      <td>True</td>\n",
       "      <td>61</td>\n",
       "    </tr>\n",
       "    <tr>\n",
       "      <th>4</th>\n",
       "      <td>2017-06-10</td>\n",
       "      <td>20</td>\n",
       "      <td>5</td>\n",
       "      <td>1019.35</td>\n",
       "      <td>0.0</td>\n",
       "      <td>False</td>\n",
       "      <td>61</td>\n",
       "    </tr>\n",
       "  </tbody>\n",
       "</table>\n",
       "</div>"
      ],
      "text/plain": [
       "         date  temperature_celcius  wind_km/h  pressure_millibar  \\\n",
       "0  2017-02-24                    6         13            1014.50   \n",
       "1  2017-03-07                    4          7            1018.82   \n",
       "2  2017-04-15                   12          6            1018.21   \n",
       "3  2017-04-30                    9          4            1010.28   \n",
       "4  2017-06-10                   20          5            1019.35   \n",
       "\n",
       "   precipitation_mm  rain_bool  humidity  \n",
       "0               0.0       True        53  \n",
       "1               2.0       True        84  \n",
       "2               0.0       True        58  \n",
       "3               0.1       True        61  \n",
       "4               0.0      False        61  "
      ]
     },
     "execution_count": 31,
     "metadata": {},
     "output_type": "execute_result"
    }
   ],
   "source": [
    "df_meteo = pd.read_csv('data/meteo.csv')\n",
    "df_meteo.head()"
   ]
  },
  {
   "cell_type": "code",
   "execution_count": null,
   "id": "df3f1c44",
   "metadata": {},
   "outputs": [],
   "source": [
    "# Ajouter les données de pluie mnt !!"
   ]
  },
  {
   "cell_type": "code",
   "execution_count": null,
   "id": "76ddce34",
   "metadata": {},
   "outputs": [],
   "source": [
    "# Idée pour plus tard : dissocier les graphiques suivant les combinaisons d'animaux repérés\n",
    "# sns.histplot(data=df_activated_label, x='date', hue='c_g_t')\n",
    "\n",
    "# Remaining questions : \n",
    "# - quand on a plusieurs photos a la suite => plusieurs données alors qu'une observation \n",
    "# - météo : pas assez de données => on laisse tomber ? Check avec les données de bounding box de Joris"
   ]
  },
  {
   "cell_type": "markdown",
   "id": "9f8cb7a1",
   "metadata": {},
   "source": [
    "Regrouper les données par heure : \n",
    "- ébauche de groupby : https://codenostra.com/fr/comment-regrouper-les-dataframes-par-heure-en-utilisant-lhorodatage-avec-pandas.html\n"
   ]
  }
 ],
 "metadata": {
  "kernelspec": {
   "display_name": "pcd",
   "language": "python",
   "name": "pcd"
  },
  "language_info": {
   "codemirror_mode": {
    "name": "ipython",
    "version": 3
   },
   "file_extension": ".py",
   "mimetype": "text/x-python",
   "name": "python",
   "nbconvert_exporter": "python",
   "pygments_lexer": "ipython3",
   "version": "3.9.7"
  }
 },
 "nbformat": 4,
 "nbformat_minor": 5
}
